{
 "cells": [
  {
   "cell_type": "code",
   "execution_count": 1,
   "id": "ae5c7b88",
   "metadata": {},
   "outputs": [],
   "source": [
    "import numpy as np\n",
    "import cv2\n",
    "from matplotlib import pyplot as plt"
   ]
  },
  {
   "cell_type": "markdown",
   "id": "ce9065e2",
   "metadata": {},
   "source": [
    "## load and preprocessing"
   ]
  },
  {
   "cell_type": "code",
   "execution_count": 5,
   "id": "af56e30d",
   "metadata": {},
   "outputs": [
    {
     "name": "stdout",
     "output_type": "stream",
     "text": [
      "(600, 800) (600, 800)\n"
     ]
    }
   ],
   "source": [
    "img_shape = (800, 600)\n",
    "ori_img = cv2.imread('image1.jpg', cv2.IMREAD_GRAYSCALE)\n",
    "ori_img = cv2.resize(ori_img, img_shape)\n",
    "watermask = cv2.imread('watermask1.jpg', cv2.IMREAD_GRAYSCALE)\n",
    "watermask = cv2.resize(watermask, img_shape)\n",
    "result_img = np.zeros(img_shape[::-1], dtype=np.uint8)\n",
    "print(np.shape(ori_img), np.shape(watermask))"
   ]
  },
  {
   "cell_type": "markdown",
   "id": "46506999",
   "metadata": {},
   "source": [
    "## display origin image and watermask"
   ]
  },
  {
   "cell_type": "code",
   "execution_count": 6,
   "id": "94aa7631",
   "metadata": {},
   "outputs": [],
   "source": [
    "def show_image(image):\n",
    "    cv2.imshow('My Image', image)\n",
    "    # 按下任意鍵則關閉所有視窗\n",
    "    cv2.waitKey(0)\n",
    "    cv2.destroyAllWindows()\n",
    "    cv2.waitKey(1)"
   ]
  },
  {
   "cell_type": "code",
   "execution_count": 7,
   "id": "9780998c",
   "metadata": {},
   "outputs": [],
   "source": [
    "imgs = np.hstack([ori_img, watermask])\n",
    "show_image(imgs)"
   ]
  },
  {
   "cell_type": "markdown",
   "id": "dafc8550",
   "metadata": {},
   "source": [
    "## embed watermask in origin image"
   ]
  },
  {
   "cell_type": "code",
   "execution_count": 8,
   "id": "bd73ed60",
   "metadata": {},
   "outputs": [],
   "source": [
    "for i in range(img_shape[1]):\n",
    "    for j in range(img_shape[0]):\n",
    "        ori_b_pixel = \"{:08b}\".format(ori_img[i][j])\n",
    "        watermask_b_pixel = \"{:08b}\".format(watermask[i][j])\n",
    "        embed_b_img = ori_b_pixel[:4] + watermask_b_pixel[:4]\n",
    "        # print(result_b_img, ori_b_pixel, watermask_b_pixel)\n",
    "        result_img[i][j] = int(embed_b_img,2)"
   ]
  },
  {
   "cell_type": "markdown",
   "id": "dd8d361b",
   "metadata": {},
   "source": [
    "## display result"
   ]
  },
  {
   "cell_type": "code",
   "execution_count": 54,
   "id": "e1494865",
   "metadata": {},
   "outputs": [],
   "source": [
    "origin_result_image = np.hstack([ori_img, result_img])\n",
    "show_image(origin_result_image)"
   ]
  },
  {
   "cell_type": "markdown",
   "id": "9c1431fa",
   "metadata": {},
   "source": [
    "## save mixing image"
   ]
  },
  {
   "cell_type": "code",
   "execution_count": 39,
   "id": "c740e8b3",
   "metadata": {},
   "outputs": [
    {
     "data": {
      "text/plain": [
       "True"
      ]
     },
     "execution_count": 39,
     "metadata": {},
     "output_type": "execute_result"
    }
   ],
   "source": [
    "cv2.imwrite('mixing_img.jpg', result_img)"
   ]
  },
  {
   "cell_type": "markdown",
   "id": "2530c5ca",
   "metadata": {},
   "source": [
    "## extract image"
   ]
  },
  {
   "cell_type": "code",
   "execution_count": 55,
   "id": "658dae7b",
   "metadata": {},
   "outputs": [],
   "source": [
    "extract_ori_img = np.zeros(img_shape[::-1], dtype=np.uint8)\n",
    "extract_ori_watermask = np.zeros(img_shape[::-1], dtype=np.uint8)"
   ]
  },
  {
   "cell_type": "code",
   "execution_count": 57,
   "id": "81ec57a8",
   "metadata": {},
   "outputs": [],
   "source": [
    "mixing_img = result_img\n",
    "# mixing_img = cv2.imread('mixing_img.jpg', cv2.IMREAD_GRAYSCALE)\n",
    "show_image(mixing_img)"
   ]
  },
  {
   "cell_type": "code",
   "execution_count": 58,
   "id": "27d30100",
   "metadata": {},
   "outputs": [],
   "source": [
    "for i in range(img_shape[1]):\n",
    "    for j in range(img_shape[0]):\n",
    "        mixing_b_pixel = \"{:08b}\".format(mixing_img[i][j])\n",
    "        extract_b_ori_img = mixing_b_pixel[:4] + '0000'\n",
    "        extract_b_ori_watermask = mixing_b_pixel[-4:] +'0000'\n",
    "        extract_ori_img[i][j] = int(extract_b_ori_img,2)\n",
    "        extract_ori_watermask[i][j] = int(extract_b_ori_watermask,2)"
   ]
  },
  {
   "cell_type": "code",
   "execution_count": 60,
   "id": "dd4af77a",
   "metadata": {},
   "outputs": [],
   "source": [
    "imgs = np.hstack([extract_ori_img, extract_ori_watermask])\n",
    "show_image(imgs)"
   ]
  },
  {
   "cell_type": "code",
   "execution_count": 16,
   "id": "32ae229b",
   "metadata": {},
   "outputs": [
    {
     "name": "stdout",
     "output_type": "stream",
     "text": [
      "<class 'str'>\n"
     ]
    }
   ],
   "source": [
    "print(type('0000'))"
   ]
  },
  {
   "cell_type": "code",
   "execution_count": 19,
   "id": "e4d7324b",
   "metadata": {},
   "outputs": [
    {
     "name": "stdout",
     "output_type": "stream",
     "text": [
      "<class 'str'>\n"
     ]
    }
   ],
   "source": [
    "a = \"{:08b}\".format(2)\n",
    "print(type(a))"
   ]
  },
  {
   "cell_type": "markdown",
   "id": "c4f2b0ad",
   "metadata": {},
   "source": [
    "# Complete Source Code"
   ]
  },
  {
   "cell_type": "code",
   "execution_count": 1,
   "id": "3b35adee",
   "metadata": {},
   "outputs": [],
   "source": [
    "import numpy as np\n",
    "import cv2\n",
    "from matplotlib import pyplot as plt\n",
    "\n",
    "image_shape = (800, 600)\n",
    "\n",
    "class watermask_module:\n",
    "    def __init__(self):\n",
    "        self.ori_backgd = np.array([])\n",
    "        self.ori_watermask = np.array([])\n",
    "        self.__embed_image = np.array([])\n",
    "        self.__extract_backgd = np.array([])\n",
    "        self.__extract_watermask = np.array([])\n",
    "\n",
    "    def embed_wm_in_img(self, background, watermask, emd_bits, img_shape = image_shape):\n",
    "        background = cv2.resize(background, img_shape)\n",
    "        watermask = cv2.resize(watermask, img_shape)\n",
    "        self.ori_backgd = background\n",
    "        self.ori_watermask = watermask\n",
    "        self.embed_image = np.zeros(img_shape[::-1], dtype=np.uint8)\n",
    "\n",
    "        for i in range(img_shape[1]):\n",
    "            for j in range(img_shape[0]):\n",
    "                background_b_pixel = \"{:08b}\".format(background[i][j])\n",
    "                watermask_b_pixel = \"{:08b}\".format(watermask[i][j])\n",
    "                embed_b_img = background_b_pixel[:(8-emd_bits)] + watermask_b_pixel[:emd_bits]\n",
    "                self.embed_image[i][j] = int(embed_b_img,2)\n",
    "        return self.embed_image\n",
    "\n",
    "    def extract_wm_in_img(self, embeded_img, emd_bits):\n",
    "        self.__extract_backgd = np.zeros(img_shape[::-1], dtype=np.uint8)\n",
    "        self.__extract_watermask = np.zeros(img_shape[::-1], dtype=np.uint8)\n",
    "        \n",
    "        for i in range(img_shape[1]):\n",
    "            for j in range(img_shape[0]):\n",
    "                embeded_b_pixel = \"{:08b}\".format(embeded_img[i][j])\n",
    "                extract_background_b_pixel = \"{:0<8}\".format(embeded_b_pixel[:(8-emd_bits)])\n",
    "                extract_watermask_b_pixel = \"{:0<8}\".format(embeded_b_pixel[-emd_bits:])\n",
    "                self.__extract_backgd[i][j] = int(extract_background_b_pixel,2)\n",
    "                self.__extract_watermask[i][j] = int(extract_watermask_b_pixel,2)\n",
    "        return self.__extract_backgd, self.__extract_watermask\n",
    "\n"
   ]
  },
  {
   "cell_type": "code",
   "execution_count": 19,
   "id": "ba75587d",
   "metadata": {},
   "outputs": [],
   "source": [
    "def show_image(desc, image):\n",
    "    cv2.imshow(str(desc), image)\n",
    "    # 按下任意鍵則關閉所有視窗\n",
    "    cv2.waitKey(0)\n",
    "    cv2.destroyAllWindows()\n",
    "    cv2.waitKey(1)"
   ]
  },
  {
   "cell_type": "code",
   "execution_count": 3,
   "id": "3cf0363c",
   "metadata": {},
   "outputs": [],
   "source": [
    "img_shape = (800, 600)\n",
    "ori_img = cv2.imread('image1.jpg', cv2.IMREAD_GRAYSCALE)\n",
    "watermask = cv2.imread('watermask1.jpg', cv2.IMREAD_GRAYSCALE)"
   ]
  },
  {
   "cell_type": "code",
   "execution_count": 23,
   "id": "c19db9a6",
   "metadata": {},
   "outputs": [],
   "source": [
    "# one bit embeding\n",
    "one_bit_embed = watermask_module()\n",
    "embed_1b_image = one_bit_embed.embed_wm_in_img(ori_img, watermask, 1)\n",
    "ext_1b_ori_backbg, ext_1b_ori_watermask = one_bit_embed.extract_wm_in_img(embed_1b_image, 1)\n",
    "\n",
    "imgs = np.hstack([one_bit_embed.ori_backgd, embed_1b_image])\n",
    "show_image('1b origin(right) and embeded(left) background', imgs)\n",
    "imgs = np.hstack([one_bit_embed.ori_backgd, ext_1b_ori_backbg])\n",
    "show_image('1b origin(right) and extract(left) background', imgs)\n",
    "imgs = np.hstack([one_bit_embed.ori_watermask, ext_1b_ori_watermask])\n",
    "show_image('1b origin(right) and extract(left) watermask', imgs)"
   ]
  },
  {
   "cell_type": "code",
   "execution_count": 24,
   "id": "4de8709f",
   "metadata": {},
   "outputs": [],
   "source": [
    "# two bit embeding\n",
    "two_bit_embed = watermask_module()\n",
    "embed_2b_image = two_bit_embed.embed_wm_in_img(ori_img, watermask, 2)\n",
    "ext_2b_ori_backbg, ext_2b_ori_watermask = two_bit_embed.extract_wm_in_img(embed_2b_image, 2)\n",
    "\n",
    "imgs = np.hstack([two_bit_embed.ori_backgd, embed_2b_image])\n",
    "show_image('2b origin(right) and embeded(left) background', imgs)\n",
    "imgs = np.hstack([two_bit_embed.ori_backgd, ext_2b_ori_backbg])\n",
    "show_image('2b origin(right) and extract(left) background', imgs)\n",
    "imgs = np.hstack([two_bit_embed.ori_watermask, ext_2b_ori_watermask])\n",
    "show_image('2b origin(right) and extract(left) watermask', imgs)\n"
   ]
  },
  {
   "cell_type": "code",
   "execution_count": 15,
   "id": "e48e8744",
   "metadata": {},
   "outputs": [],
   "source": [
    "# three bit embeding\n",
    "three_bit_embed = watermask_module()\n",
    "embed_3b_image = three_bit_embed.embed_wm_in_img(ori_img, watermask, 3)\n",
    "ext_3b_ori_backbg, ext_3b_ori_watermask = three_bit_embed.extract_wm_in_img(embed_3b_image, 3)\n",
    "\n",
    "imgs = np.hstack([three_bit_embed.ori_backgd, embed_3b_image])\n",
    "show_image('3b origin(right) and embeded(left) background', imgs)\n",
    "imgs = np.hstack([three_bit_embed.ori_backgd, ext_3b_ori_backbg])\n",
    "show_image('3b origin(right) and extract(left) background', imgs)\n",
    "imgs = np.hstack([three_bit_embed.ori_watermask, ext_3b_ori_watermask])\n",
    "show_image('3b origin(right) and extract(left) watermask', imgs)\n"
   ]
  },
  {
   "cell_type": "code",
   "execution_count": 14,
   "id": "6ac884ba",
   "metadata": {},
   "outputs": [],
   "source": [
    "show_image(ext_ori_image)\n",
    "show_image(ext_ori_watermask)"
   ]
  },
  {
   "cell_type": "code",
   "execution_count": 31,
   "id": "7db2170a",
   "metadata": {},
   "outputs": [],
   "source": [
    "show_image(result)"
   ]
  },
  {
   "cell_type": "code",
   "execution_count": 40,
   "id": "4eb7852c",
   "metadata": {},
   "outputs": [
    {
     "name": "stdout",
     "output_type": "stream",
     "text": [
      "<class 'str'>\n"
     ]
    }
   ],
   "source": [
    "print(type(\"{:0<8b}\".format(3)))\n"
   ]
  },
  {
   "cell_type": "code",
   "execution_count": null,
   "id": "59160f88",
   "metadata": {},
   "outputs": [],
   "source": []
  }
 ],
 "metadata": {
  "kernelspec": {
   "display_name": "Python (tensorflow-gpu)",
   "language": "python",
   "name": "tensorflow-gpu"
  },
  "language_info": {
   "codemirror_mode": {
    "name": "ipython",
    "version": 3
   },
   "file_extension": ".py",
   "mimetype": "text/x-python",
   "name": "python",
   "nbconvert_exporter": "python",
   "pygments_lexer": "ipython3",
   "version": "3.5.6"
  },
  "vscode": {
   "interpreter": {
    "hash": "5850f293d5712e5c6d19cea0f56365f6e8795abb17dc044d20844fbb0bf63f46"
   }
  }
 },
 "nbformat": 4,
 "nbformat_minor": 5
}
