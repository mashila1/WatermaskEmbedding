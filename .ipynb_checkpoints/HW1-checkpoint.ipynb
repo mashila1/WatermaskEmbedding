{
 "cells": [
  {
   "cell_type": "code",
   "execution_count": 1,
   "id": "ae5c7b88",
   "metadata": {},
   "outputs": [],
   "source": [
    "import numpy as np\n",
    "import cv2\n",
    "from matplotlib import pyplot as plt"
   ]
  },
  {
   "cell_type": "markdown",
   "id": "ce9065e2",
   "metadata": {},
   "source": [
    "## load and preprocessing"
   ]
  },
  {
   "cell_type": "code",
   "execution_count": 2,
   "id": "af56e30d",
   "metadata": {},
   "outputs": [
    {
     "name": "stdout",
     "output_type": "stream",
     "text": [
      "(600, 800) (600, 800)\n"
     ]
    }
   ],
   "source": [
    "img_shape = (800, 600)\n",
    "ori_img = cv2.imread('image1.jpg', cv2.IMREAD_GRAYSCALE)\n",
    "ori_img = cv2.resize(ori_img, img_shape)\n",
    "watermask = cv2.imread('watermask1.jpg', cv2.IMREAD_GRAYSCALE)\n",
    "watermask = cv2.resize(watermask, img_shape)\n",
    "result_img = np.zeros(img_shape[::-1], dtype=np.uint8)\n",
    "print(np.shape(ori_img), np.shape(watermask))"
   ]
  },
  {
   "cell_type": "markdown",
   "id": "46506999",
   "metadata": {},
   "source": [
    "## display origin image and watermask"
   ]
  },
  {
   "cell_type": "code",
   "execution_count": 4,
   "id": "9780998c",
   "metadata": {},
   "outputs": [],
   "source": [
    "imgs = np.hstack([ori_img, watermask])\n",
    "cv2.imshow('My Image', imgs)\n",
    "cv2.waitKey(0)\n",
    "cv2.destroyAllWindows()"
   ]
  },
  {
   "cell_type": "markdown",
   "id": "dafc8550",
   "metadata": {},
   "source": [
    "## embed watermask in origin image"
   ]
  },
  {
   "cell_type": "code",
   "execution_count": 6,
   "id": "bd73ed60",
   "metadata": {},
   "outputs": [],
   "source": [
    "for i in range(img_shape[1]):\n",
    "    for j in range(img_shape[0]):\n",
    "        ori_b_pixel = \"{:08b}\".format(ori_img[i][j])\n",
    "        watermask_b_pixel = \"{:08b}\".format(watermask[i][j])\n",
    "        result_b_img = ori_b_pixel[:4] + watermask_b_pixel[-4:]\n",
    "        # print(result_b_img, ori_b_pixel, watermask_b_pixel)\n",
    "        result_img[i][j] = int(result_b_img,2)"
   ]
  },
  {
   "cell_type": "markdown",
   "id": "dd8d361b",
   "metadata": {},
   "source": [
    "## display result"
   ]
  },
  {
   "cell_type": "code",
   "execution_count": 7,
   "id": "e1494865",
   "metadata": {},
   "outputs": [],
   "source": [
    "imgs = np.hstack([ori_img, result_img])\n",
    "# 顯示圖片\n",
    "cv2.imshow('My Image', imgs)\n",
    "\n",
    "# 按下任意鍵則關閉所有視窗\n",
    "cv2.waitKey(0)\n",
    "cv2.destroyAllWindows()"
   ]
  },
  {
   "cell_type": "markdown",
   "id": "9c1431fa",
   "metadata": {},
   "source": [
    "## save mixing english"
   ]
  },
  {
   "cell_type": "code",
   "execution_count": 8,
   "id": "c740e8b3",
   "metadata": {},
   "outputs": [
    {
     "data": {
      "text/plain": [
       "True"
      ]
     },
     "execution_count": 8,
     "metadata": {},
     "output_type": "execute_result"
    }
   ],
   "source": [
    "cv2.imwrite('mixing_img.jpg', result_img)"
   ]
  },
  {
   "cell_type": "code",
   "execution_count": null,
   "id": "851ac218",
   "metadata": {},
   "outputs": [],
   "source": []
  },
  {
   "cell_type": "code",
   "execution_count": 11,
   "id": "81ec57a8",
   "metadata": {},
   "outputs": [],
   "source": [
    "mixing_img = cv2.imread('mixing_img.jpg', cv2.IMREAD_GRAYSCALE)"
   ]
  },
  {
   "cell_type": "code",
   "execution_count": 14,
   "id": "73295d51",
   "metadata": {},
   "outputs": [],
   "source": [
    "cv2.imshow('My Image', mixing_img)\n",
    "cv2.waitKey(0)\n",
    "cv2.destroyAllWindows()"
   ]
  },
  {
   "cell_type": "code",
   "execution_count": null,
   "id": "27d30100",
   "metadata": {},
   "outputs": [],
   "source": [
    "for i in range(img_shape[1]):\n",
    "    for j in range(img_shape[0]):\n",
    "        ext_ori_b_pixel = \"{:08b}\".format(ori_img[i][j])\n",
    "        watermask_b_pixel = \"{:08b}\".format(watermask[i][j])\n",
    "        result_b_img = ori_b_pixel[:4] + watermask_b_pixel[-4:]\n",
    "        # print(result_b_img, ori_b_pixel, watermask_b_pixel)\n",
    "        result_img[i][j] = int(result_b_img,2)"
   ]
  },
  {
   "cell_type": "code",
   "execution_count": 16,
   "id": "e4d7324b",
   "metadata": {},
   "outputs": [
    {
     "name": "stdout",
     "output_type": "stream",
     "text": [
      "00000010\n"
     ]
    }
   ],
   "source": [
    "a = \"{:08b}\".format(2)[]\n",
    "print(a)"
   ]
  }
 ],
 "metadata": {
  "kernelspec": {
   "display_name": "Python (tensorflow-gpu)",
   "language": "python",
   "name": "tensorflow-gpu"
  },
  "language_info": {
   "codemirror_mode": {
    "name": "ipython",
    "version": 3
   },
   "file_extension": ".py",
   "mimetype": "text/x-python",
   "name": "python",
   "nbconvert_exporter": "python",
   "pygments_lexer": "ipython3",
   "version": "3.5.6"
  }
 },
 "nbformat": 4,
 "nbformat_minor": 5
}
